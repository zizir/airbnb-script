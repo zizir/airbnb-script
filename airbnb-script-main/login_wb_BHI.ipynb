{
 "cells": [
  {
   "cell_type": "code",
   "execution_count": null,
   "metadata": {},
   "outputs": [],
   "source": [
    "from selenium import webdriver\n",
    "from selenium.webdriver.common.keys import Keys\n",
    "from selenium.webdriver.common.by import By\n",
    "import time\n",
    "import pandas as pd\n",
    "import csv"
   ]
  },
  {
   "cell_type": "code",
   "execution_count": null,
   "metadata": {},
   "outputs": [],
   "source": [
    "# TODO: need to prompt the user to input email\n",
    "# USER_EMAIL = \"lbo@multusmanagement.com\"\n",
    "# PASSWORD = \"B3lieveSt0ne!\"\n",
    "\n",
    "# Account: Stephanie\n",
    "# USER_EMAIL = \"stephanie.francor@gmail.com\"\n",
    "# PASSWORD = \"wDl37N16v$^a\"\n",
    "\n",
    "# Account: DSIS\n",
    "# USER_EMAIL = \"dsis@multusmanagement.com\"\n",
    "# PASSWORD = \"B3lieveSt0ne!\"\n",
    "\n",
    "# Account: BHI\n",
    "USER_EMAIL = \"BHI2@multusmanagement.com\"\n",
    "PASSWORD = \"5Az*32MjEW4p\"\n",
    "\n",
    "# Account: Alpine\n",
    "# USER_EMAIL = \"alpine@multusmanagement.com\"\n",
    "# PASSWORD = \"B3lieveSt0ne!\"\n",
    "\n",
    "# Account: PT300\n",
    "# USER_EMAIL = \"pt300@multusmanagement.com\"\n",
    "# PASSWORD = \"B3lieveSt0ne!\"\n",
    "\n",
    "MAIN_PAGE_URL = \"https://www.airbnb.com/login\"\n",
    "LISTING_PAGE_URL = \"https://www.airbnb.com/hosting/listings\"\n",
    "RESERVATION_URL = \"https://www.airbnb.com/hosting/reservations\"\n",
    "\n",
    "# XPATH_email_btn = \"/html/body/div[5]/div/div/div[1]/div/div[2]/div[1]/main/div/div/div/div/div/div[3]/div/div[4]/button/div/div[2]\"\n",
    "XPATH_email_btn = \"/html/body/div[5]/div/div/div[1]/div/div[2]/div[1]/main/div/div/div/div/div/div[3]/div/div[5]/button/div/div[2]\"\n",
    "XPATH_login_form = \"/html/body/div[5]/div/div/div[1]/div/div[2]/div[1]/main/div/div/div/div/div/form\"\n",
    "XPATH_completed_btn = \"/html/body/div[5]/div/div/div[1]/div/div/main/div[1]/section/div[4]/div[1]/div/div/div/div/div[1]/div/button[2]\"\n",
    "XPATH_canceled_btn = \"/html/body/div[5]/div/div/div[1]/div/div/main/div[1]/section/div[4]/div[1]/div/div/div/div/div[1]/div/button[3]\"\n",
    "XPATH_reservation_next_page_btn = \"/html/body/div[5]/div/div/div[1]/div/div/main/div[1]/section/footer/div/nav/div/button[8]\"\n",
    "CSS_SELECTOR_next_btn = \"#site-content > div._1u2ubxs > section > footer > div > nav > div > button._1bfat5l.l1j9v1wn.dir.dir-ltr\"\n",
    "                        # \"#site-content > div._1u2ubxs > section > footer > div > nav > div > button._1bfat5l.l1j9v1wn.dir.dir-ltr\"\n",
    "                        # \"#site-content > div._1u2ubxs > section > footer > div > nav > div > button._1bfat5l.l1j9v1wn.dir.dir-ltr\"\n"
   ]
  },
  {
   "cell_type": "code",
   "execution_count": null,
   "metadata": {},
   "outputs": [],
   "source": [
    "driver = webdriver.Chrome()\n",
    "driver.get(MAIN_PAGE_URL)"
   ]
  },
  {
   "cell_type": "code",
   "execution_count": null,
   "metadata": {},
   "outputs": [],
   "source": [
    "def login(driver):\n",
    "    # click continue with email with XPATH - doable\n",
    "    email_btn = driver.find_element(By.XPATH, XPATH_email_btn)\n",
    "    email_btn.click() \n",
    "\n",
    "    # try input user info - workable\n",
    "    email_input = driver.find_element(By.NAME, \"user[email]\")\n",
    "    email_input.send_keys(USER_EMAIL)\n",
    "\n",
    "    # find \"continue\" button and click to submit email\n",
    "    login_form = driver.find_element(By.XPATH, XPATH_login_form)\n",
    "    login_form.submit()\n",
    "    # TODO: after submitting, not shown (might need to sleep)\n",
    "    time.sleep(5)\n",
    "\n",
    "    # find password input form and input password\n",
    "    pw_input = driver.find_element(By.NAME, \"user[password]\")\n",
    "    pw_input.send_keys(PASSWORD)\n",
    "    pw_input.submit()\n",
    "\n",
    "    # TODO: SUCCESSFULLY LOGGED IN\n",
    "    time.sleep(5)\n"
   ]
  },
  {
   "cell_type": "code",
   "execution_count": null,
   "metadata": {},
   "outputs": [],
   "source": [
    "login(driver)"
   ]
  },
  {
   "cell_type": "code",
   "execution_count": null,
   "metadata": {},
   "outputs": [],
   "source": [
    "driver.get(RESERVATION_URL)"
   ]
  },
  {
   "cell_type": "code",
   "execution_count": null,
   "metadata": {},
   "outputs": [],
   "source": [
    "def extract_all_entries(html_source):\n",
    "    all_entries = html_source.split(\"<tr><td class=\\\"_qjegjiv\\\">\")[1:]\n",
    "    all_entries[0] = \"<tr><td class=\\\"_qjegjiv\\\">\" + all_entries[0]\n",
    "    all_entries[-1] = all_entries[-1].split(\"</div></td></tr>\")[0]\n",
    "    return all_entries\n",
    "    \n",
    "def append_one_entry(df, entry):\n",
    "    splitted_by_status = entry.split(\"<div class=\\\"_pgfqnw\\\"><span>\")\n",
    "    status = splitted_by_status[1].split(\"</span>\")[0]\n",
    "    splitted_by_others = splitted_by_status[1].split(\"<td class=\\\"_qjegjiv\\\">\")\n",
    "    \n",
    "    check_in_time = splitted_by_others[1].split(\"</td>\")[0]\n",
    "    check_out_time = splitted_by_others[2].split(\"</td>\")[0]\n",
    "    listing_name = splitted_by_others[3].split(\"</td>\")[1].split(\">\")[1]\n",
    "    room = listing_name.split(\"*\")[-1]\n",
    "    confirmation_code = splitted_by_others[4].split(\"</td>\")[0]\n",
    "    total_payout = splitted_by_others[5].split(\"</td>\")[0].split(\"$\")[1]\n",
    "\n",
    "    df[\"listing name\"].append(listing_name)\n",
    "    df[\"room\"].append(room)\n",
    "    df[\"confirmation\"].append(confirmation_code)\n",
    "    df[\"status\"].append(status)\n",
    "    df[\"check in\"].append(check_in_time)\n",
    "    df[\"check out\"].append(check_out_time)\n",
    "    df[\"total payout\"].append(total_payout)\n",
    "    # TODO: internal name\n",
    "    \n",
    "def append_one_entry_completed(df, entry):\n",
    "    splitted_by_status = entry.split(\"<div class=\\\"_pgfqnw\\\"><span\")\n",
    "    status = splitted_by_status[1].split(\"</span>\")[0][18:]\n",
    "    splitted_by_others = splitted_by_status[1].split(\"<td class=\\\"_qjegjiv\\\">\")\n",
    "    \n",
    "    check_in_time = splitted_by_others[1].split(\"</td>\")[0]\n",
    "    check_out_time = splitted_by_others[2].split(\"</td>\")[0]\n",
    "    listing_name = splitted_by_others[3].split(\"</td>\")[1].split(\">\")[1]\n",
    "    room = listing_name.split(\"*\")[-1]\n",
    "    confirmation_code = splitted_by_others[4].split(\"</td>\")[0]\n",
    "    total_payout = splitted_by_others[5].split(\"</td>\")[0].split(\"$\")[1]\n",
    "\n",
    "    df[\"listing name\"].append(listing_name)\n",
    "    df[\"room\"].append(room)\n",
    "    df[\"confirmation\"].append(confirmation_code)\n",
    "    df[\"status\"].append(status)\n",
    "    df[\"check in\"].append(check_in_time)\n",
    "    df[\"check out\"].append(check_out_time)\n",
    "    df[\"total payout\"].append(total_payout)\n",
    "    # TODO: internal name\n",
    "    \n",
    "def append_all_entries(df, html_source):\n",
    "    all_entries = extract_all_entries(html_source)\n",
    "    for entry in all_entries:\n",
    "        # print(entry)\n",
    "        append_one_entry(df, entry)\n",
    "\n",
    "def append_all_entries_completed(df, html_source):\n",
    "    all_entries = extract_all_entries(html_source)\n",
    "    for entry in all_entries:\n",
    "        # print(entry)\n",
    "        append_one_entry_completed(df, entry)\n",
    "    \n",
    "def append_all_pages_upcoming(driver, df):\n",
    "    html_source = \"\"\n",
    "    while (html_source != driver.page_source):\n",
    "        html_source = driver.page_source\n",
    "        append_all_entries(df, html_source)\n",
    "        # next_page_btn = driver.find_element(By.XPATH, XPATH_reservation_next_page_btn)\n",
    "        potential_elements = driver.find_elements(By.CSS_SELECTOR, CSS_SELECTOR_next_btn)\n",
    "        if len(potential_elements) == 0:\n",
    "            print(\"no next page\")\n",
    "            # break\n",
    "        else:\n",
    "            next_page_btn = potential_elements[0]\n",
    "            next_page_btn.click()\n",
    "        time.sleep(3.5)\n",
    "\n",
    "def append_all_pages_completed(driver, df):\n",
    "    html_source = \"\"\n",
    "    # counter = 0\n",
    "    while (html_source != driver.page_source):\n",
    "        html_source = driver.page_source\n",
    "        append_all_entries_completed(df, html_source)\n",
    "        # next_page_btn = driver.find_element(By.XPATH, XPATH_reservation_next_page_btn)\n",
    "        potential_elements = driver.find_elements(By.CSS_SELECTOR, CSS_SELECTOR_next_btn)\n",
    "        if len(potential_elements) == 0:\n",
    "            print(\"no next page\")\n",
    "            # break\n",
    "        else:\n",
    "            next_page_btn = potential_elements[0]\n",
    "            next_page_btn.click()\n",
    "        time.sleep(5)\n",
    "        # counter = counter + 1\n",
    "\n",
    "def append_all_pages_canceled_test(driver, df):\n",
    "    html_source = \"\"\n",
    "    while (html_source != driver.page_source):\n",
    "        html_source = driver.page_source\n",
    "        append_all_entries(df, html_source)\n",
    "        # next_page_btn = driver.find_element(By.XPATH, XPATH_reservation_next_page_btn)\n",
    "        potential_elements = driver.find_elements(By.CSS_SELECTOR, CSS_SELECTOR_next_btn)\n",
    "        if len(potential_elements) == 0:\n",
    "            break\n",
    "        else:\n",
    "            next_page_btn = potential_elements[0]\n",
    "            next_page_btn.click()\n",
    "        time.sleep(4)\n",
    "\n"
   ]
  },
  {
   "cell_type": "code",
   "execution_count": null,
   "metadata": {},
   "outputs": [],
   "source": [
    "df_dict_upcoming = {\n",
    "    \"listing name\": [],\n",
    "    \"room\": [],\n",
    "    \"confirmation\": [],\n",
    "    \"status\": [],\n",
    "    \"check in\": [],\n",
    "    \"check out\": [],\n",
    "    \"total payout\": []\n",
    "}\n",
    "# append_all_entries_completed(df_dict_upcoming, driver.page_source)\n",
    "append_all_pages_upcoming(driver, df_dict_upcoming)\n",
    "df_upcoming = pd.DataFrame(df_dict_upcoming)\n",
    "df_upcoming"
   ]
  },
  {
   "cell_type": "code",
   "execution_count": null,
   "metadata": {},
   "outputs": [],
   "source": [
    "# df_upcoming.to_csv(\"./stephanie-reservation-upcoming.csv\", index=False)\n",
    "# df_upcoming.to_csv(\"./03-20-reservations/DSIS-reservation-upcoming.csv\", index=False)\n",
    "df_upcoming.to_csv(\"./03-20-reservations/BHI-reservation-upcoming.csv\", index=False)\n",
    "# df_upcoming.to_csv(\"./03-20-reservations/LBO-reservation-upcoming.csv\", index=False)\n",
    "# df_upcoming.to_csv(\"./03-20-reservations/PT300-reservation-upcoming.csv\", index=False)"
   ]
  },
  {
   "cell_type": "code",
   "execution_count": null,
   "metadata": {},
   "outputs": [],
   "source": [
    "# df.to_csv(\"./out.csv\", index=False)\n",
    "# df[\"xxxx\"] == \"arriving ......\""
   ]
  },
  {
   "cell_type": "code",
   "execution_count": null,
   "metadata": {},
   "outputs": [],
   "source": [
    "# getting completed reservations\n",
    "completed_bnt = driver.find_element(By.XPATH, XPATH_completed_btn)\n",
    "completed_bnt.click()"
   ]
  },
  {
   "cell_type": "code",
   "execution_count": null,
   "metadata": {},
   "outputs": [],
   "source": [
    "df_dict_completed = {\n",
    "    \"listing name\": [],\n",
    "    \"room\": [],\n",
    "    \"confirmation\": [],\n",
    "    \"status\": [],\n",
    "    \"check in\": [],\n",
    "    \"check out\": [],\n",
    "    \"total payout\": []\n",
    "}\n",
    "\n",
    "append_all_pages_completed(driver, df_dict_completed)\n",
    "df_completed = pd.DataFrame(df_dict_completed)\n",
    "df_completed"
   ]
  },
  {
   "cell_type": "code",
   "execution_count": null,
   "metadata": {},
   "outputs": [],
   "source": [
    "# df_completed.to_csv(\"./stephanie-reservation-completed.csv\", index=False)\n",
    "# df_completed.to_csv(\"./03-20-reservations/DSIS-reservation-completed.csv\", index=False)\n",
    "df_completed.to_csv(\"./03-20-reservations/BHI-reservation-completed.csv\", index=False)\n",
    "# df_completed.to_csv(\"./03-20-reservations/LBO-reservation-completed.csv\", index=False)\n",
    "# df_completed.to_csv(\"./03-20-reservations/PT300-reservation-completed.csv\", index=False)"
   ]
  },
  {
   "cell_type": "code",
   "execution_count": null,
   "metadata": {},
   "outputs": [],
   "source": [
    "# getting canceled reservations\n",
    "canceled_bnt = driver.find_element(By.XPATH, XPATH_canceled_btn)\n",
    "canceled_bnt.click()"
   ]
  },
  {
   "cell_type": "code",
   "execution_count": null,
   "metadata": {},
   "outputs": [],
   "source": [
    "df_dict_canceled = {\n",
    "    \"listing name\": [],\n",
    "    \"room\": [],\n",
    "    \"confirmation\": [],\n",
    "    \"status\": [],\n",
    "    \"check in\": [],\n",
    "    \"check out\": [],\n",
    "    \"total payout\": []\n",
    "}\n",
    "\n",
    "append_all_pages_canceled_test(driver, df_dict_canceled)\n",
    "df_canceled = pd.DataFrame(df_dict_canceled)\n",
    "df_canceled"
   ]
  },
  {
   "cell_type": "code",
   "execution_count": null,
   "metadata": {},
   "outputs": [],
   "source": [
    "# df_canceled.to_csv(\"./stephanie-reservation-canceled.csv\", index=False)\n",
    "# df_canceled.to_csv(\"./03-20-reservations/DSIS-reservation-canceled.csv\", index=False)\n",
    "df_canceled.to_csv(\"./03-20-reservations/BHI-reservation-canceled.csv\", index=False)\n",
    "# df_canceled.to_csv(\"./03-20-reservations/LBO-reservation-canceled.csv\", index=False)\n",
    "# df_canceled.to_csv(\"./03-20-reservations/PT300-reservation-canceled.csv\", index=False)"
   ]
  },
  {
   "cell_type": "code",
   "execution_count": null,
   "metadata": {},
   "outputs": [],
   "source": [
    "# internal name XPATH\n",
    "# /html/body/div[6]/div/div/div[1]/div/div/main/div/div/div/div/section[1]/div/div/div[2]/div[1]/table/tbody[2]/tr[1]/td[2]/div/div[2]/div[2]"
   ]
  }
 ],
 "metadata": {
  "kernelspec": {
   "display_name": "pytorch",
   "language": "python",
   "name": "python3"
  },
  "language_info": {
   "codemirror_mode": {
    "name": "ipython",
    "version": 3
   },
   "file_extension": ".py",
   "mimetype": "text/x-python",
   "name": "python",
   "nbconvert_exporter": "python",
   "pygments_lexer": "ipython3",
   "version": "3.8.16"
  },
  "orig_nbformat": 4,
  "vscode": {
   "interpreter": {
    "hash": "25ebd00f71eafa916e161fc62d0b6aef5cc1fe970c96e99311ae14d4139f0286"
   }
  }
 },
 "nbformat": 4,
 "nbformat_minor": 2
}
