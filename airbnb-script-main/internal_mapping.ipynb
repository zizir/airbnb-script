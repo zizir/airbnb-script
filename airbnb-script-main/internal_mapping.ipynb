{
 "cells": [
  {
   "cell_type": "code",
   "execution_count": 1,
   "metadata": {},
   "outputs": [],
   "source": [
    "from selenium import webdriver\n",
    "from selenium.webdriver.common.keys import Keys\n",
    "from selenium.webdriver.common.by import By\n",
    "import time\n",
    "import pandas as pd\n",
    "import csv"
   ]
  },
  {
   "cell_type": "code",
   "execution_count": 2,
   "metadata": {},
   "outputs": [],
   "source": [
    "# TODO: need to prompt the user to input email\n",
    "# USER_EMAIL = \"lbo@multusmanagement.com\"\n",
    "# PASSWORD = \"B3lieveSt0ne!\"\n",
    "USER_EMAIL = \"stephanie.francor@gmail.com\"\n",
    "PASSWORD = \"wDl37N16v$^a\"\n",
    "MAIN_PAGE_URL = \"https://www.airbnb.com/login\"\n",
    "LISTING_PAGE_URL = \"https://www.airbnb.com/hosting/listings\"\n",
    "RESERVATION_URL = \"https://www.airbnb.com/hosting/reservations\"\n",
    "\n",
    "XPATH_email_btn = \"/html/body/div[5]/div/div/div[1]/div/div[2]/div[1]/main/div/div/div/div/div/div[3]/div/div[4]/button/div/div[2]\"\n",
    "XPATH_login_form = \"/html/body/div[5]/div/div/div[1]/div/div[2]/div[1]/main/div/div/div/div/div/form\"\n",
    "XPATH_listing_next_page_btn = \"/html/body/div[5]/div/div/div[1]/div/div/main/div/div/div/div/section[1]/div/div/div[2]/div[3]/nav/div/button[2]\"\n"
   ]
  },
  {
   "cell_type": "code",
   "execution_count": 3,
   "metadata": {},
   "outputs": [],
   "source": [
    "driver = webdriver.Chrome() #Chromedriver\n",
    "driver.get(MAIN_PAGE_URL)"
   ]
  },
  {
   "cell_type": "code",
   "execution_count": 5,
   "metadata": {},
   "outputs": [],
   "source": [
    "def login(driver):\n",
    "    # click continue with email with XPATH - doable\n",
    "    email_btn = driver.find_element(By.XPATH, XPATH_email_btn)\n",
    "    email_btn.click() \n",
    "\n",
    "    # try input user info - workable\n",
    "    email_input = driver.find_element(By.NAME, \"user[email]\")\n",
    "    email_input.send_keys(USER_EMAIL)\n",
    "\n",
    "    # find \"continue\" button and click to submit email\n",
    "    login_form = driver.find_element(By.XPATH, XPATH_login_form)\n",
    "    login_form.submit()\n",
    "    # TODO: after submitting, not shown (might need to sleep)\n",
    "    time.sleep(2)\n",
    "\n",
    "    # find password input form and input password\n",
    "    pw_input = driver.find_element(By.NAME, \"user[password]\")\n",
    "    pw_input.send_keys(PASSWORD)\n",
    "    pw_input.submit()\n",
    "\n",
    "    # TODO: SUCCESSFULLY LOGGED IN\n",
    "    time.sleep(5)\n"
   ]
  },
  {
   "cell_type": "code",
   "execution_count": 6,
   "metadata": {},
   "outputs": [],
   "source": [
    "login(driver)"
   ]
  },
  {
   "cell_type": "code",
   "execution_count": 7,
   "metadata": {},
   "outputs": [],
   "source": [
    "# map script\n",
    "driver.get(LISTING_PAGE_URL)"
   ]
  },
  {
   "cell_type": "code",
   "execution_count": 8,
   "metadata": {},
   "outputs": [],
   "source": [
    "def is_suspended(status_info):\n",
    "    status = status_info.split(\"</div>\")[0]\n",
    "    return status == \"Suspended\"\n",
    "\n",
    "def append_one_entry(df, entry):\n",
    "    # TODO: add status\n",
    "    split_by_status = entry.split(\"<div class=\\\"_8hm2ou\\\"><div class=\\\"_l6x7wk\\\">\")\n",
    "    # TODO: add suspended\n",
    "    if is_suspended(split_by_status[1]):\n",
    "        return \n",
    "    after_listing_name = split_by_status[0].split(\"<div class=\\\"_t0tx82\\\">\")[1] # after listing name\n",
    "    before_modified = after_listing_name.split(\"<div class=\\\"_1vy3vsk\\\">\")[0] # before modified\n",
    "    infos = before_modified.split(\"</div>\")\n",
    "\n",
    "    if (len(infos) != 3): # if internal title is absent, length == 2\n",
    "        return\n",
    "    \n",
    "    listing_name = infos[0][22:]\n",
    "    internal_title = infos[1].split(\">\")[1]\n",
    "    df[\"listing name\"].append(listing_name)\n",
    "    df[\"internal title\"].append(internal_title)\n",
    "\n",
    "def append_all_entries(df, html_source):\n",
    "    entries = html_source.split(\"<tr data-testid=\\\"host-listings-row-\")[1:]\n",
    "    entries[-1] = entries[-1].split(\"<td class=\\\"_10v9brh\\\"></td></tr>\")[0]\n",
    "    for entry in entries:\n",
    "        append_one_entry(df, entry)\n",
    "\n",
    "\n",
    "def append_all_pages(driver, df):\n",
    "    html_source = \"\"\n",
    "    while (html_source != driver.page_source):\n",
    "        html_source = driver.page_source\n",
    "        append_all_entries(df, html_source)\n",
    "        next_page_btn = driver.find_element(By.XPATH, XPATH_listing_next_page_btn)\n",
    "        next_page_btn.click()\n",
    "        time.sleep(1)\n"
   ]
  },
  {
   "cell_type": "code",
   "execution_count": 9,
   "metadata": {},
   "outputs": [],
   "source": [
    "df_dict = {\n",
    "    \"listing name\": [],\n",
    "    \"internal title\": []\n",
    "}\n",
    "append_all_pages(driver, df_dict)"
   ]
  },
  {
   "cell_type": "code",
   "execution_count": 10,
   "metadata": {},
   "outputs": [
    {
     "data": {
      "text/html": [
       "<div>\n",
       "<style scoped>\n",
       "    .dataframe tbody tr th:only-of-type {\n",
       "        vertical-align: middle;\n",
       "    }\n",
       "\n",
       "    .dataframe tbody tr th {\n",
       "        vertical-align: top;\n",
       "    }\n",
       "\n",
       "    .dataframe thead th {\n",
       "        text-align: right;\n",
       "    }\n",
       "</style>\n",
       "<table border=\"1\" class=\"dataframe\">\n",
       "  <thead>\n",
       "    <tr style=\"text-align: right;\">\n",
       "      <th></th>\n",
       "      <th>listing name</th>\n",
       "      <th>internal title</th>\n",
       "    </tr>\n",
       "  </thead>\n",
       "  <tbody>\n",
       "    <tr>\n",
       "      <th>0</th>\n",
       "      <td>110 Acres! PrivateLake* Scenic* Fireplace*Gril...</td>\n",
       "      <td>Kentucky - Pinecone Lodg</td>\n",
       "    </tr>\n",
       "    <tr>\n",
       "      <th>1</th>\n",
       "      <td>Lit Deck 3BR2BA Artistic Hideaway Marietta Sq bll</td>\n",
       "      <td>738 Bellemeade Way - Atlanta</td>\n",
       "    </tr>\n",
       "    <tr>\n",
       "      <th>2</th>\n",
       "      <td>*King Bed*Pets* 1-Story Home Covered Patio wst</td>\n",
       "      <td>3175 Westwood - Atlanta</td>\n",
       "    </tr>\n",
       "    <tr>\n",
       "      <th>3</th>\n",
       "      <td>Sleeps5*Luxury*HighFloor*Balcony *Renovated 15I</td>\n",
       "      <td>300 Peachtree 15I - Atlanta - Uhome</td>\n",
       "    </tr>\n",
       "    <tr>\n",
       "      <th>4</th>\n",
       "      <td>Romantic Cabin w/ in-room Jacuzzi* WIFI* Firep...</td>\n",
       "      <td>194 Alpine - Elsa</td>\n",
       "    </tr>\n",
       "    <tr>\n",
       "      <th>...</th>\n",
       "      <td>...</td>\n",
       "      <td>...</td>\n",
       "    </tr>\n",
       "    <tr>\n",
       "      <th>188</th>\n",
       "      <td>Newly Renovated unit A in 4-plex,8min frm dwntwn</td>\n",
       "      <td>unit A - Indianapolis</td>\n",
       "    </tr>\n",
       "    <tr>\n",
       "      <th>189</th>\n",
       "      <td>Newly Renovated Unit B 8 mins frm downtown</td>\n",
       "      <td>Newly Renovated Unit B - Indianapolis</td>\n",
       "    </tr>\n",
       "    <tr>\n",
       "      <th>190</th>\n",
       "      <td>Newly Renovated Unit D, 8min frm dwntown</td>\n",
       "      <td>Newly Renovated Unit D - Indianapolis</td>\n",
       "    </tr>\n",
       "    <tr>\n",
       "      <th>191</th>\n",
       "      <td>Discard: bvu</td>\n",
       "      <td>1086 Briar Vista Upper - Atlanta</td>\n",
       "    </tr>\n",
       "    <tr>\n",
       "      <th>192</th>\n",
       "      <td>Discard: bvl</td>\n",
       "      <td>1086 Briar Vista Lower - Atlanta</td>\n",
       "    </tr>\n",
       "  </tbody>\n",
       "</table>\n",
       "<p>193 rows × 2 columns</p>\n",
       "</div>"
      ],
      "text/plain": [
       "                                          listing name  \\\n",
       "0    110 Acres! PrivateLake* Scenic* Fireplace*Gril...   \n",
       "1    Lit Deck 3BR2BA Artistic Hideaway Marietta Sq bll   \n",
       "2       *King Bed*Pets* 1-Story Home Covered Patio wst   \n",
       "3      Sleeps5*Luxury*HighFloor*Balcony *Renovated 15I   \n",
       "4    Romantic Cabin w/ in-room Jacuzzi* WIFI* Firep...   \n",
       "..                                                 ...   \n",
       "188   Newly Renovated unit A in 4-plex,8min frm dwntwn   \n",
       "189         Newly Renovated Unit B 8 mins frm downtown   \n",
       "190           Newly Renovated Unit D, 8min frm dwntown   \n",
       "191                                       Discard: bvu   \n",
       "192                                       Discard: bvl   \n",
       "\n",
       "                             internal title  \n",
       "0                  Kentucky - Pinecone Lodg  \n",
       "1              738 Bellemeade Way - Atlanta  \n",
       "2                   3175 Westwood - Atlanta  \n",
       "3       300 Peachtree 15I - Atlanta - Uhome  \n",
       "4                         194 Alpine - Elsa  \n",
       "..                                      ...  \n",
       "188                   unit A - Indianapolis  \n",
       "189   Newly Renovated Unit B - Indianapolis  \n",
       "190   Newly Renovated Unit D - Indianapolis  \n",
       "191        1086 Briar Vista Upper - Atlanta  \n",
       "192        1086 Briar Vista Lower - Atlanta  \n",
       "\n",
       "[193 rows x 2 columns]"
      ]
     },
     "execution_count": 10,
     "metadata": {},
     "output_type": "execute_result"
    }
   ],
   "source": [
    "df = pd.DataFrame(df_dict)\n",
    "df"
   ]
  },
  {
   "cell_type": "code",
   "execution_count": 11,
   "metadata": {},
   "outputs": [],
   "source": [
    "df.to_csv(\"./listing_internal_mapping.csv\", index=False)"
   ]
  },
  {
   "cell_type": "code",
   "execution_count": 116,
   "metadata": {},
   "outputs": [],
   "source": [
    "# TODO: to close the driver, uncommnet the following line and run\n",
    "# driver.close()"
   ]
  }
 ],
 "metadata": {
  "kernelspec": {
   "display_name": "Python 3",
   "language": "python",
   "name": "python3"
  },
  "language_info": {
   "codemirror_mode": {
    "name": "ipython",
    "version": 3
   },
   "file_extension": ".py",
   "mimetype": "text/x-python",
   "name": "python",
   "nbconvert_exporter": "python",
   "pygments_lexer": "ipython3",
   "version": "3.8.5"
  },
  "orig_nbformat": 4,
  "vscode": {
   "interpreter": {
    "hash": "082e9a3bcad0a290d0001e938aa60b99250c6c2ef33a923c00b70f9826caf4b7"
   }
  }
 },
 "nbformat": 4,
 "nbformat_minor": 2
}
